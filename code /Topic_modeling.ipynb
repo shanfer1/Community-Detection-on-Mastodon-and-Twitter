{
  "nbformat": 4,
  "nbformat_minor": 0,
  "metadata": {
    "colab": {
      "provenance": []
    },
    "kernelspec": {
      "name": "python3",
      "display_name": "Python 3"
    },
    "language_info": {
      "name": "python"
    }
  },
  "cells": [
    {
      "cell_type": "code",
      "source": [
        "import pandas as pd\n",
        "# Load data from CSV\n",
        "df = pd.read_csv('positive_tweets.csv')\n",
        "import re\n",
        "\n",
        "# Load data from CSV\n",
        "\n",
        "# Remove https links using regular expression\n",
        "df['clean_text'] = df['clean_text'].str.replace(r'https?://\\S+', '', regex=True)\n",
        "\n",
        "\n",
        "# Print the first 10 rows of the 'clean_text' column\n",
        "for index, row in df.head(10).iterrows():\n",
        "    print(f\"Row {index + 1}: {row['clean_text']}\")\n",
        "\n",
        "\n"
      ],
      "metadata": {
        "colab": {
          "base_uri": "https://localhost:8080/"
        },
        "id": "LBaeG5ymAFP9",
        "outputId": "b2c927b4-3093-4917-a76e-ca76c13e2900"
      },
      "execution_count": 14,
      "outputs": [
        {
          "output_type": "stream",
          "name": "stdout",
          "text": [
            "Row 1: CDC opens probe after 35 test positive for covid following CDC conference I guess #COVID19 is not gone. #GetVaccinated #GetBoosted\n",
            "Row 2: For the immunocompromised, those who can’t get immunized, and others at high risk: MASKS ONLY performance today (except the cast, who are all tested and vaccinated).2:30 PM @ Ground Floor Theatre (Springdale at Airport) #theatre #ActorsLife #ItsNotOver #WearAMask #GetVaccinated #GetBoosted #COVID19 #immunocompromised\n",
            "Row 3: This is such a chilling example of how the media pushes a propaganda narrative despite the facts not aligning with the narrative. The World Health Organization said that hundreds of millions of people will need long term care from long COVID as 1 in 10 infections lead to it, but the headlines for the articles about the briefing are all about how \"COVID deaths are down 95%\" and it's like yeah that's what vaccination does, makes it so you don't die. The problem that is being ignored is the mass disabling. #LongCOVID is no joke. #COVID19 is still a threat that cannot be ignored. #MaskUp at all times whenever possible, and #GetVaccinated and get a booster. Don't let the pandemic deniers gaslight you.\n",
            "Row 4: @pixplz @longcovid @novid COVID is neither a joke nor a fantasy — and its fallout has disastrous impact on millions of Americans.Which could possibly have been contained by mandatory vaccination campaigns.\"Bach’s work shows that for Americans 18-65 years old, or “working age,” 16 million currently have long COVID, and 2 to 4 million can’t work at all, with a trail of *at least $170 billion in lost wages*.\" The pandemic is over, when #WHO says it's over. No sooner. #GetVaccinated #Responsibility #Care #Healthcare #UnitedInDiversity #StrongerTogether\n",
            "Row 5: U.S. Authorizes a New Round of Covid Boosters  This makes sense. #COVID19 isn't gone yet. Be safe #GetBoosted #GetVaccinated\n",
            "Row 6: Fun Fact: The #vaccines for #Hepatitis A and B don&#39;t last forever. My mom got me both of them when I was a baby but my most recent blood tests didn&#39;t show the antibodies so I just had to get re-#vaccinated for them. Maybe ask your doctor about it.#vaccination #vax #getvaccinated #getvaxxed #hepa #hepb\n",
            "Row 7: @Free_Press If COVID doesn't kill fake \"Republican\" anti-vaxxers like Gym Jordan, chances are it makes 'em dumb as a rock. #GetVaccinated #BanTheGOP #Insurrection #Jan6 #NationalSecurityThreat\n",
            "Row 8: Stew Peters is the newest troglodyte to come out of the altright-nationalist-Nazi-nut-job sphere calling for general destruction and the end of the world so he can scare up some money and fame.  He’s the guy behind the died-suddenly movie and social media trend.#DiedSuddenly #StewPeters#AntiVAX#AltRight #ScienceDenial#GetVaccinated#Vaccination The alt-right influencer behind the viral “died suddenly” conspiracy theory - Mother Jones\n",
            "Row 9: Just a reminder that while the primary source of #COVID19 transmission is airborne &amp; droplet, surfaces are the third leading source per #WHO report last year &amp; further confirmed by a new study by London's Imperial College described here: #pandemic #WashYourHands #WearAMask #GetVaccinated #COVID\n",
            "Row 10: \"COVID caused brain damage in 2 infants infected during pregnancy(...) The babies were born to young mothers who tested positive for the virus during their second trimester before vaccines were widely available, the doctors said.(...) Both infants had severe developmental delays. One of the children died at 13 months, and the other was in hospice care, the team said.(...) Dr. Shahnaz Duara, an obstetrician and gynecologist at the University of Miami, said she believed the cases were rare, but urged women who had been infected during their pregnancies to inform their children's pediatricians to check for developmental delays.\"We know that things can be fairly subtle up to seven or eight years of age, until kids go to school,\" she said.The team also urged women who were considering pregnancy to get vaccinated against COVID, and said pregnant women should consider vaccination.\"#Covid #Covid19 #SarsCoV2 #CovidIsNotOver #GetVaccinated 🔗: \n"
          ]
        }
      ]
    },
    {
      "cell_type": "code",
      "execution_count": 15,
      "metadata": {
        "colab": {
          "base_uri": "https://localhost:8080/"
        },
        "id": "ZANFumZj8cW5",
        "outputId": "799056ba-dca0-4cb9-9374-82e20ad48528"
      },
      "outputs": [
        {
          "output_type": "stream",
          "name": "stderr",
          "text": [
            "[nltk_data] Downloading package stopwords to /root/nltk_data...\n",
            "[nltk_data]   Package stopwords is already up-to-date!\n"
          ]
        },
        {
          "output_type": "stream",
          "name": "stdout",
          "text": [
            "Topic 0: getvaccinated vaccineswork vaccine twitter covid19 covid com wearamask vaccination vaccines\n",
            "Topic 1: vaccineswork covid vaccination rt covid19 getvaccinated amp get 19 vaccine\n",
            "Topic 2: vaccineswork get covid getvaccinated vaccine vaccinated people vaccines 39 vaccination\n",
            "Topic 3: getvaccinated covid wearamask people covid19 amp vaccineswork vaccines 19 vaccine\n",
            "Topic 4: composeroftheday getvaxxed getboosted maskup getvaccinated covid youtube via get people\n"
          ]
        }
      ],
      "source": [
        "import pandas as pd\n",
        "import numpy as np\n",
        "import nltk\n",
        "from nltk.corpus import stopwords\n",
        "from sklearn.feature_extraction.text import CountVectorizer\n",
        "from sklearn.decomposition import LatentDirichletAllocation\n",
        "nltk.download('stopwords')\n",
        "\n",
        "\n",
        "# Tokenization and stopword removal\n",
        "stop_words = list(stopwords.words('english'))\n",
        "vectorizer = CountVectorizer(stop_words=stop_words)\n",
        "doc_term_matrix = vectorizer.fit_transform(df['clean_text'])\n",
        "\n",
        "# LDA modeling\n",
        "lda_model = LatentDirichletAllocation(n_components=5, random_state=42)\n",
        "lda_model.fit(doc_term_matrix)\n",
        "\n",
        "# Get top words for each topic\n",
        "feature_names = vectorizer.get_feature_names_out()\n",
        "n_top_words = 10\n",
        "topic_keywords = {}\n",
        "for i, topic in enumerate(lda_model.components_):\n",
        "    keywords = \" \".join([feature_names[j] for j in topic.argsort()[:-n_top_words - 1:-1]])\n",
        "    print(f\"Topic {i}: {keywords}\")\n",
        "    topic_keywords[i] = keywords\n",
        "\n",
        "# Get topic assignments for each tweet\n",
        "topic_assignments = lda_model.transform(doc_term_matrix)\n",
        "df['topic'] = np.argmax(topic_assignments, axis=1)\n",
        "\n",
        "# Replace topic assignments with keywords\n",
        "df['topic'] = df['topic'].map(topic_keywords)\n",
        "\n",
        "# Save results to CSV\n",
        "df.to_csv('positive_tweets_with_topics.csv', index=False)\n"
      ]
    }
  ]
}